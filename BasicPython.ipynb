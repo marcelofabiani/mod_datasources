{
  "nbformat": 4,
  "nbformat_minor": 0,
  "metadata": {
    "colab": {
      "name": "BasicPython",
      "provenance": [],
      "collapsed_sections": [],
      "include_colab_link": true
    },
    "kernelspec": {
      "name": "python3",
      "display_name": "Python 3"
    }
  },
  "cells": [
    {
      "cell_type": "markdown",
      "metadata": {
        "id": "view-in-github",
        "colab_type": "text"
      },
      "source": [
        "<a href=\"https://colab.research.google.com/github/nathalyAlarconT/mod_datasources/blob/master/BasicPython.ipynb\" target=\"_parent\"><img src=\"https://colab.research.google.com/assets/colab-badge.svg\" alt=\"Open In Colab\"/></a>"
      ]
    },
    {
      "cell_type": "markdown",
      "metadata": {
        "id": "M15jTjgabj0R",
        "colab_type": "text"
      },
      "source": [
        "## Objetivo"
      ]
    },
    {
      "cell_type": "markdown",
      "metadata": {
        "id": "O5iqKPrxac61",
        "colab_type": "text"
      },
      "source": [
        "Hola ! \n",
        "\n",
        "El propósito de este notebook es mostrar la sintaxis básica de Python y de las principales librerías utilizadas para analizar y procesar datos.\n",
        "\n",
        "Contenido: \n",
        "\n",
        "*   Python\n",
        "  * Sintáxis Básica\n",
        "  * Estructuras de control\n",
        "  * Funciones\n",
        "* Scipy\n",
        "  * Numpy\n",
        "  * Matplotlib\n",
        "  * Pandas\n",
        "\n",
        "\n"
      ]
    },
    {
      "cell_type": "markdown",
      "metadata": {
        "id": "TwL24tbQlpwn",
        "colab_type": "text"
      },
      "source": [
        "# Python\n",
        "\n"
      ]
    },
    {
      "cell_type": "code",
      "metadata": {
        "id": "8pGJ3ca6CUS2",
        "colab_type": "code",
        "colab": {}
      },
      "source": [
        "# Hola mundo \n",
        "print(\"Hello World \")   # Adiciona tu nombre al mensaje "
      ],
      "execution_count": 0,
      "outputs": []
    },
    {
      "cell_type": "markdown",
      "metadata": {
        "id": "XPylpaD6pHvW",
        "colab_type": "text"
      },
      "source": [
        "## Basic Syntax"
      ]
    },
    {
      "cell_type": "markdown",
      "metadata": {
        "id": "UA1jAncvpDKI",
        "colab_type": "text"
      },
      "source": [
        "### Comentarios"
      ]
    },
    {
      "cell_type": "code",
      "metadata": {
        "id": "9OSu8JZOCmFG",
        "colab_type": "code",
        "colab": {}
      },
      "source": [
        "# Comentarios en Python\n",
        "# Comentario de una linea\n",
        "\n",
        "\"\"\" \n",
        "Comentario de \n",
        "múltiples \n",
        "líneas\n",
        "\"\"\"\n",
        "\n",
        "\"\"\" Aunque es multilinea, sólo usamos una \"\"\"\n"
      ],
      "execution_count": 0,
      "outputs": []
    },
    {
      "cell_type": "markdown",
      "metadata": {
        "id": "hDy0pUTXpcmD",
        "colab_type": "text"
      },
      "source": [
        "### Cadenas de Texto"
      ]
    },
    {
      "cell_type": "code",
      "metadata": {
        "id": "S09NtTCepHga",
        "colab_type": "code",
        "colab": {}
      },
      "source": [
        "a = \"Hello\"\n",
        "print(a[1])\n",
        "print(len(a)) # Lenght - Tamaño de la cadena de texto\n",
        "print(a)\n",
        "a"
      ],
      "execution_count": 0,
      "outputs": []
    },
    {
      "cell_type": "markdown",
      "metadata": {
        "id": "7EErwDu8qK0H",
        "colab_type": "text"
      },
      "source": [
        "### Asignaciones múltiples"
      ]
    },
    {
      "cell_type": "code",
      "metadata": {
        "id": "uTdksPohqP2t",
        "colab_type": "code",
        "colab": {}
      },
      "source": [
        "b, c, d, e, f, g = 20, None, 40, False, 'hola!', True\n",
        "print(b, c, d, e, f, g)\n",
        "print(d)\n",
        "f"
      ],
      "execution_count": 0,
      "outputs": []
    },
    {
      "cell_type": "markdown",
      "metadata": {
        "id": "mIMjdQfcuhYm",
        "colab_type": "text"
      },
      "source": [
        "## Estructuras de datos"
      ]
    },
    {
      "cell_type": "markdown",
      "metadata": {
        "id": "LCA3rsULuoLs",
        "colab_type": "text"
      },
      "source": [
        "### Listas\n"
      ]
    },
    {
      "cell_type": "code",
      "metadata": {
        "id": "JXr0TrJjul_V",
        "colab_type": "code",
        "colab": {}
      },
      "source": [
        "my_list = [-1, 3, 4, 6]\n",
        "print(\"Segundo elemento de la lista: \", my_list[1])\n",
        "\n",
        "# Adicionar un elemento a la lista\n",
        "my_list.append(8)\n",
        "print(my_list)\n",
        "\n",
        "# Adicionar múltiples elementos a la lista\n",
        "my_list.extend([-2, 10])\n",
        "print(my_list)\n",
        "\n",
        "print(\"Iteramos la lista\")\n",
        "for elem in my_list:\n",
        "  print(elem)\n"
      ],
      "execution_count": 0,
      "outputs": []
    },
    {
      "cell_type": "markdown",
      "metadata": {
        "id": "Hic7bfK0vyBa",
        "colab_type": "text"
      },
      "source": [
        "### Diccionarios"
      ]
    },
    {
      "cell_type": "code",
      "metadata": {
        "id": "ly3R7Co2v1Vu",
        "colab_type": "code",
        "colab": {}
      },
      "source": [
        "product = {'id':1, 'name': 'Pencil', 'price': 2}\n",
        "\n",
        "print(\"Precio\", product['price'])\n",
        "\n",
        "print(product.keys())\n",
        "print(product.values())\n"
      ],
      "execution_count": 0,
      "outputs": []
    },
    {
      "cell_type": "markdown",
      "metadata": {
        "id": "D2NEzRMjq8hT",
        "colab_type": "text"
      },
      "source": [
        "## Estructuras de Control"
      ]
    },
    {
      "cell_type": "markdown",
      "metadata": {
        "id": "bJYIPY86r51m",
        "colab_type": "text"
      },
      "source": [
        "### If-Then-Else"
      ]
    },
    {
      "cell_type": "code",
      "metadata": {
        "id": "kezxbINaCZ-S",
        "colab_type": "code",
        "colab": {}
      },
      "source": [
        "nota = 40\n",
        "\n",
        "if nota < 51: \n",
        "  print(\"reprobado\")\n",
        "elif nota > 90:\n",
        "  print(\"sobresaliente\")\n",
        "else:\n",
        "  print (\"aprobado\")"
      ],
      "execution_count": 0,
      "outputs": []
    },
    {
      "cell_type": "markdown",
      "metadata": {
        "id": "fKelZOm3tmJn",
        "colab_type": "text"
      },
      "source": [
        "### For Loop"
      ]
    },
    {
      "cell_type": "code",
      "metadata": {
        "id": "IecZasNvoY2-",
        "colab_type": "code",
        "colab": {}
      },
      "source": [
        "# Definamos una lista\n",
        "my_list = list(range(5, 17))\n",
        "print(my_list)\n",
        "\n",
        "for i in my_list:\n",
        "  print (\"Elemento en la lista:\", i)"
      ],
      "execution_count": 0,
      "outputs": []
    },
    {
      "cell_type": "markdown",
      "metadata": {
        "id": "Wd4GagCCt-YR",
        "colab_type": "text"
      },
      "source": [
        "### While Loop\n"
      ]
    },
    {
      "cell_type": "code",
      "metadata": {
        "id": "K4kk5F4QuBmN",
        "colab_type": "code",
        "colab": {}
      },
      "source": [
        "saldo = 6\n",
        "while saldo > 0:\n",
        "  saldo -= 1  # Equivalente a saldo = saldo - 1\n",
        "  print (\"Pago realizado. Saldo Actual:\", saldo)"
      ],
      "execution_count": 0,
      "outputs": []
    },
    {
      "cell_type": "markdown",
      "metadata": {
        "id": "-4Nd_ZZTyIZT",
        "colab_type": "text"
      },
      "source": [
        "## Funciones"
      ]
    },
    {
      "cell_type": "code",
      "metadata": {
        "id": "m3IXC-HeyNpi",
        "colab_type": "code",
        "colab": {}
      },
      "source": [
        "def cm_a_pulgadas(medida):\n",
        "  pulgadas = medida / 2.54\n",
        "  return pulgadas\n",
        "\n",
        "\n",
        "medida = 50\n",
        "pulgadas = cm_a_pulgadas(medida)\n",
        "print(\"Pulgadas :\", pulgadas)\n"
      ],
      "execution_count": 0,
      "outputs": []
    },
    {
      "cell_type": "code",
      "metadata": {
        "id": "IZB8kWFWqQP_",
        "colab_type": "code",
        "colab": {}
      },
      "source": [
        "def suma(a,b):\n",
        "  c=a+b\n",
        "  return c\n",
        "\n"
      ],
      "execution_count": 0,
      "outputs": []
    },
    {
      "cell_type": "code",
      "metadata": {
        "id": "2MR3ioilrZlJ",
        "colab_type": "code",
        "colab": {}
      },
      "source": [
        "termino1=44\n",
        "termino2=12\n",
        "resultado=suma(termino1,termino2)\n",
        "print(resultado)\n"
      ],
      "execution_count": 0,
      "outputs": []
    },
    {
      "cell_type": "markdown",
      "metadata": {
        "id": "-g-77-BJ16Sk",
        "colab_type": "text"
      },
      "source": [
        "## SciPy\n",
        "Es un ecosistema de librerías para matemáticas, ciencia e ingeniería. \n",
        "\n",
        "https://www.scipy.org/\n",
        "\n",
        "Usaremos principalmente:\n",
        "\n",
        "**Numpy**: Básicamente nos permite trabajar eficientemente con arrays\n",
        "\n",
        "**Matplotlib**: Nos permite crear visualizaciones\n",
        "\n",
        "**Pandas**: Nos permite trabajar con datasets\n",
        "\n",
        "\n"
      ]
    },
    {
      "cell_type": "markdown",
      "metadata": {
        "id": "PxNuhnTu2QPy",
        "colab_type": "text"
      },
      "source": [
        "### Numpy"
      ]
    },
    {
      "cell_type": "code",
      "metadata": {
        "id": "Q0ljb3hi166R",
        "colab_type": "code",
        "colab": {}
      },
      "source": [
        "import numpy as np"
      ],
      "execution_count": 0,
      "outputs": []
    },
    {
      "cell_type": "code",
      "metadata": {
        "id": "LRfTM8IP2Usu",
        "colab_type": "code",
        "colab": {}
      },
      "source": [
        "my_matrix = np.array([[1,2,3], [4,5,6], [7,8,9]])\n",
        "\n",
        "print(\"Tamaño de la matriz:\", my_matrix.shape)\n",
        "# Acceder a los elementos de la matriz my_matrix[row, column]\n",
        "print(\"Segundo elemento de la tercera fila: \", my_matrix[2,1])\n",
        "\n",
        "print(my_matrix)"
      ],
      "execution_count": 0,
      "outputs": []
    },
    {
      "cell_type": "markdown",
      "metadata": {
        "id": "IgT5c5gJ4A2D",
        "colab_type": "text"
      },
      "source": [
        "### Matplotlib"
      ]
    },
    {
      "cell_type": "code",
      "metadata": {
        "id": "qlRLVQe626ob",
        "colab_type": "code",
        "colab": {}
      },
      "source": [
        "import matplotlib.pyplot as plt\n",
        "%matplotlib inline"
      ],
      "execution_count": 0,
      "outputs": []
    },
    {
      "cell_type": "code",
      "metadata": {
        "id": "YTDBvLFg3_0Y",
        "colab_type": "code",
        "colab": {}
      },
      "source": [
        "plt.plot([2,3,6],[4,5,1])\n",
        "plt.xlabel(\"Eje x\")\n",
        "plt.ylabel(\"Eje y\")\n",
        "plt.show()"
      ],
      "execution_count": 0,
      "outputs": []
    },
    {
      "cell_type": "code",
      "metadata": {
        "id": "twI-nq_d6H3y",
        "colab_type": "code",
        "colab": {}
      },
      "source": [
        "plt.scatter([2,3,6],[4,5,1])\n",
        "plt.xlabel(\"Eje x title\")\n",
        "plt.ylabel(\"Eje y title\")\n",
        "plt.show()"
      ],
      "execution_count": 0,
      "outputs": []
    },
    {
      "cell_type": "markdown",
      "metadata": {
        "id": "EWSJClOb7_RU",
        "colab_type": "text"
      },
      "source": [
        "### Pandas"
      ]
    },
    {
      "cell_type": "code",
      "metadata": {
        "id": "R9JqjViz7tNs",
        "colab_type": "code",
        "colab": {}
      },
      "source": [
        "import pandas as pd"
      ],
      "execution_count": 0,
      "outputs": []
    },
    {
      "cell_type": "code",
      "metadata": {
        "id": "R_HhlHt77-g7",
        "colab_type": "code",
        "colab": {}
      },
      "source": [
        "my_matrix = np.array([['Juan','Rodriguez',25, 1500], ['Elizabeth','Barrera',19, 2000], ['Pedro','Perez',39, 3000], ['Alvaro','Serrano',29, 800]])\n",
        "print(my_matrix)\n"
      ],
      "execution_count": 0,
      "outputs": []
    },
    {
      "cell_type": "code",
      "metadata": {
        "id": "EtNYs9KUvcFB",
        "colab_type": "code",
        "colab": {}
      },
      "source": [
        "my_df = pd.DataFrame(data=my_matrix, columns=['Nombre', 'Apellido', 'Edad', 'Salario'])\n",
        "my_df\n"
      ],
      "execution_count": 0,
      "outputs": []
    },
    {
      "cell_type": "code",
      "metadata": {
        "id": "vn20ivxV8bR1",
        "colab_type": "code",
        "colab": {}
      },
      "source": [
        "#  Seleccionar una columna\n",
        "# Forma 1\n",
        "my_df['Nombre']"
      ],
      "execution_count": 0,
      "outputs": []
    },
    {
      "cell_type": "code",
      "metadata": {
        "id": "sSQlMlgc8kdh",
        "colab_type": "code",
        "colab": {}
      },
      "source": [
        "#  Seleccionar una columna\n",
        "# Forma 2\n",
        "my_df.Nombre"
      ],
      "execution_count": 0,
      "outputs": []
    },
    {
      "cell_type": "code",
      "metadata": {
        "id": "3VCK_UQ98wsW",
        "colab_type": "code",
        "colab": {}
      },
      "source": [
        "# Tipos de datos en el dataset\n",
        "my_df.dtypes"
      ],
      "execution_count": 0,
      "outputs": []
    },
    {
      "cell_type": "code",
      "metadata": {
        "id": "N5XvMoyq9Q41",
        "colab_type": "code",
        "colab": {}
      },
      "source": [
        "# Cambiaremos la columna Edad a tipo numérico\n",
        "my_df['Edad'] = my_df['Edad'].astype(int)\n",
        "my_df.dtypes"
      ],
      "execution_count": 0,
      "outputs": []
    },
    {
      "cell_type": "code",
      "metadata": {
        "id": "StAL4HPa9pR7",
        "colab_type": "code",
        "colab": {}
      },
      "source": [
        "print(\"Edad promedio: \", my_df['Edad'].mean() )"
      ],
      "execution_count": 0,
      "outputs": []
    },
    {
      "cell_type": "markdown",
      "metadata": {
        "id": "bG36K5PG-WfA",
        "colab_type": "text"
      },
      "source": [
        "### Cargando datos a partir de un CSV"
      ]
    },
    {
      "cell_type": "code",
      "metadata": {
        "id": "K-wy3E4I9t0o",
        "colab_type": "code",
        "colab": {}
      },
      "source": [
        "csv_url = \"https://data.cityofnewyork.us/api/views/25th-nujf/rows.csv?accessType=DOWNLOAD\"\n",
        "# Es importante configurar\n",
        "# Si el csv tiene header, el tipo de separador que usa, y si los valores llevan \"\" ó no\n",
        "\n",
        "df = pd.read_csv(csv_url, delimiter=',' )\n",
        "df.head()"
      ],
      "execution_count": 0,
      "outputs": []
    },
    {
      "cell_type": "code",
      "metadata": {
        "id": "G4SvCcNO97Os",
        "colab_type": "code",
        "colab": {}
      },
      "source": [
        "df.shape"
      ],
      "execution_count": 0,
      "outputs": []
    },
    {
      "cell_type": "markdown",
      "metadata": {
        "id": "t-OtlS4Ar95P",
        "colab_type": "text"
      },
      "source": [
        "# Tarea\n",
        "\n",
        "Ejercicios:\n",
        "\n",
        "1. Define una lista con valores de 62 al 94 e imprime los números pares\n",
        "\n",
        "2. Crea una función que identifique si una persona puede votar en base a su edad.\n",
        "\n",
        "3. Para el dataset \"df\" que contiene la información 'Nombre', 'Apellido', 'Edad' y 'Salario' grafica la 'Edad' versus el 'Salario'\n",
        "\n",
        "\n",
        "Envía capturas de pantalla del código y de los resultados de cada ejercicio al correo: me@nathalyalarcon.com \n",
        "\n",
        "El correo debe contener tu nombre y apellido."
      ]
    }
  ]
}