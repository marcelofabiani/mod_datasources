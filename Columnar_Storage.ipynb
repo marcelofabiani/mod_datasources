{
  "nbformat": 4,
  "nbformat_minor": 0,
  "metadata": {
    "colab": {
      "name": "Columnar_Storage.ipynb",
      "provenance": [],
      "collapsed_sections": [],
      "include_colab_link": true
    },
    "kernelspec": {
      "name": "python3",
      "display_name": "Python 3"
    }
  },
  "cells": [
    {
      "cell_type": "markdown",
      "metadata": {
        "id": "view-in-github",
        "colab_type": "text"
      },
      "source": [
        "<a href=\"https://colab.research.google.com/github/nathalyAlarconT/mod_datasources/blob/master/Columnar_Storage.ipynb\" target=\"_parent\"><img src=\"https://colab.research.google.com/assets/colab-badge.svg\" alt=\"Open In Colab\"/></a>"
      ]
    },
    {
      "cell_type": "code",
      "metadata": {
        "id": "xtYOTaT78sq4",
        "colab_type": "code",
        "colab": {}
      },
      "source": [
        "# Columnar Storage\n",
        "import pandas as pd"
      ],
      "execution_count": 0,
      "outputs": []
    },
    {
      "cell_type": "markdown",
      "metadata": {
        "id": "XiBWU1z-ZVnu",
        "colab_type": "text"
      },
      "source": [
        "Dataset Source: \n",
        "\n",
        "\n",
        "https://www.kaggle.com/AnalyzeBoston/crimes-in-boston/downloads/crimes-in-boston.zip/2\n",
        "\n",
        "\n",
        "Descarga los datos, se encuentran en formato zip y despues cargalos en tu ambiente de colab"
      ]
    },
    {
      "cell_type": "code",
      "metadata": {
        "id": "EWW8YrX19imu",
        "colab_type": "code",
        "colab": {}
      },
      "source": [
        "!unzip crimes-in-boston.zip"
      ],
      "execution_count": 0,
      "outputs": []
    },
    {
      "cell_type": "code",
      "metadata": {
        "id": "Ec3DICCc8yGR",
        "colab_type": "code",
        "colab": {}
      },
      "source": [
        "!ls -lh"
      ],
      "execution_count": 0,
      "outputs": []
    },
    {
      "cell_type": "code",
      "metadata": {
        "id": "xVkF8tg492K-",
        "colab_type": "code",
        "colab": {}
      },
      "source": [
        "df_crimes = pd.read_csv('crime.csv',  encoding='latin-1')"
      ],
      "execution_count": 0,
      "outputs": []
    },
    {
      "cell_type": "code",
      "metadata": {
        "id": "ZLv3VqVp-Pdw",
        "colab_type": "code",
        "colab": {}
      },
      "source": [
        "print(df_crimes.shape)\n",
        "df_crimes.head()"
      ],
      "execution_count": 0,
      "outputs": []
    },
    {
      "cell_type": "code",
      "metadata": {
        "id": "HOq0MfNu-pKy",
        "colab_type": "code",
        "colab": {}
      },
      "source": [
        "# Vamos a escribir el dataset en un archivo parquet\n",
        "df_crimes.to_parquet('crimes.parquet', engine='auto', compression='snappy' ,  )"
      ],
      "execution_count": 0,
      "outputs": []
    },
    {
      "cell_type": "code",
      "metadata": {
        "id": "mmmV9aM--xAv",
        "colab_type": "code",
        "colab": {}
      },
      "source": [
        "!ls -lh"
      ],
      "execution_count": 0,
      "outputs": []
    },
    {
      "cell_type": "code",
      "metadata": {
        "id": "ZfxRxnQV_6qh",
        "colab_type": "code",
        "colab": {}
      },
      "source": [
        "# Vamos a escribir el dataset en un archivo parquet\n",
        "df_crimes.to_parquet('crimes.parquet_year', engine='auto', compression='snappy' , partition_cols=['YEAR']  )"
      ],
      "execution_count": 0,
      "outputs": []
    },
    {
      "cell_type": "code",
      "metadata": {
        "id": "cJuCtlsZ-cW_",
        "colab_type": "code",
        "colab": {}
      },
      "source": [
        "# Para verificar, carguemos nuevamente el dataset\n",
        "import pyarrow.parquet as pq\n",
        "data = pq.read_pandas('crimes.parquet').to_pandas()\n",
        "data"
      ],
      "execution_count": 0,
      "outputs": []
    },
    {
      "cell_type": "code",
      "metadata": {
        "id": "Ey-gXnCG_E0u",
        "colab_type": "code",
        "colab": {}
      },
      "source": [
        ""
      ],
      "execution_count": 0,
      "outputs": []
    }
  ]
}